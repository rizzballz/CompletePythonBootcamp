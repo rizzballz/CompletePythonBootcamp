{
 "cells": [
  {
   "cell_type": "markdown",
   "metadata": {},
   "source": [
    "<h1>Section 15: Search and Sort</h1>\n",
    "<h2>Linear Search</h2>\n",
    "Searching through a group of items one by one and asking is this what i am looking for? Would be similar to searching througha deck of cards for a specific card. Has a Big O of n, searching through 200 items takes twice as long as searching through 100 items."
   ]
  },
  {
   "cell_type": "code",
   "execution_count": 2,
   "metadata": {},
   "outputs": [],
   "source": [
    "def linear_search(item, my_list):\n",
    "    '''\n",
    "    Function to search through a list linearly from start to finish.\n",
    "    Return True or false if found and the index of the found item or the \n",
    "    Length of the list if not found.\n",
    "    \n",
    "    This method will only find the first instance of the value in the list.\n",
    "    '''\n",
    "    #Initialise i or index value to zero and found boolean flag to False.\n",
    "    i = 0\n",
    "    found = False\n",
    "    \n",
    "    # While loop to iterate over the list while i < length of my_list\n",
    "    # and while found == false\n",
    "    while i < len(my_list) and found == False:\n",
    "        if my_list[i] == item:\n",
    "            found = True\n",
    "        else:\n",
    "            i += 1\n",
    "    return(found, i)\n",
    "    "
   ]
  },
  {
   "cell_type": "code",
   "execution_count": 4,
   "metadata": {},
   "outputs": [
    {
     "name": "stdout",
     "output_type": "stream",
     "text": [
      "(True, 6)\n",
      "(False, 10)\n"
     ]
    }
   ],
   "source": [
    "test = [6,5,8,2,3,45,87,24,70, 87]\n",
    "print(linear_search(87, test))\n",
    "print(linear_search(88, test))"
   ]
  },
  {
   "cell_type": "markdown",
   "metadata": {},
   "source": [
    "<h1>Binary Search</h1>\n",
    "Relies on the list you are searching through is sorted. relies on a half split method. logarithmic time algorithm.\n",
    "Go to the mid point of your list. Is this your item? if not is it Higher or lower than the item that is selected? discard the non relevent half and repeat."
   ]
  },
  {
   "cell_type": "code",
   "execution_count": 12,
   "metadata": {},
   "outputs": [],
   "source": [
    "def binary_search(item, my_list):\n",
    "    '''\n",
    "    Function to search through a list using a Binary Search.\n",
    "    Returns True if item is found in my_list and the Index of item\n",
    "    Returns False if item not in my_list.\n",
    "    '''\n",
    "    \n",
    "    # Initialise found flag to false, set first index as index 0 and last to the last index in my_list\n",
    "    found = False\n",
    "    first = 0\n",
    "    last = len(my_list) - 1\n",
    "    \n",
    "    # Loop to go search through the list.\n",
    "    while first <= last and found == False:\n",
    "        midpoint = (first + last)//2\n",
    "        if my_list[midpoint] == item:\n",
    "            found = True\n",
    "        else:\n",
    "            if my_list[midpoint] < item:\n",
    "                first = midpoint + 1\n",
    "            else:\n",
    "                last = midpoint - 1\n",
    "    return found, midpoint"
   ]
  },
  {
   "cell_type": "code",
   "execution_count": 14,
   "metadata": {},
   "outputs": [
    {
     "data": {
      "text/plain": [
       "[2, 3, 5, 6, 8, 24, 45, 70, 87, 87]"
      ]
     },
     "execution_count": 14,
     "metadata": {},
     "output_type": "execute_result"
    }
   ],
   "source": [
    "test"
   ]
  },
  {
   "cell_type": "code",
   "execution_count": 15,
   "metadata": {},
   "outputs": [
    {
     "name": "stdout",
     "output_type": "stream",
     "text": [
      "(True, 3)\n",
      "(False, 9)\n"
     ]
    }
   ],
   "source": [
    "test.sort()\n",
    "print(binary_search(6,test))\n",
    "print(binary_search(88,test))"
   ]
  },
  {
   "cell_type": "code",
   "execution_count": null,
   "metadata": {},
   "outputs": [],
   "source": []
  }
 ],
 "metadata": {
  "kernelspec": {
   "display_name": "Python 3",
   "language": "python",
   "name": "python3"
  },
  "language_info": {
   "codemirror_mode": {
    "name": "ipython",
    "version": 3
   },
   "file_extension": ".py",
   "mimetype": "text/x-python",
   "name": "python",
   "nbconvert_exporter": "python",
   "pygments_lexer": "ipython3",
   "version": "3.7.4"
  }
 },
 "nbformat": 4,
 "nbformat_minor": 2
}
