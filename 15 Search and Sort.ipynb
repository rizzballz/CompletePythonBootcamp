{
 "cells": [
  {
   "cell_type": "markdown",
   "metadata": {},
   "source": [
    "<h1>Section 15: Search and Sort</h1>\n",
    "by Ryan McMillan 19 Jan 2020\n",
    "<h2>Linear Search</h2>\n",
    "Searching through a group of items one by one and asking is this what i am looking for? Would be similar to searching througha deck of cards for a specific card. Has a Big O of n, searching through 200 items takes twice as long as searching through 100 items."
   ]
  },
  {
   "cell_type": "code",
   "execution_count": 2,
   "metadata": {},
   "outputs": [],
   "source": [
    "def linear_search(item, my_list):\n",
    "    '''\n",
    "    Function to search through a list linearly from start to finish.\n",
    "    Return True or false if found and the index of the found item or the \n",
    "    Length of the list if not found.\n",
    "    \n",
    "    This method will only find the first instance of the value in the list.\n",
    "    '''\n",
    "    #Initialise i or index value to zero and found boolean flag to False.\n",
    "    i = 0\n",
    "    found = False\n",
    "    \n",
    "    # While loop to iterate over the list while i < length of my_list\n",
    "    # and while found == false\n",
    "    while i < len(my_list) and found == False:\n",
    "        # Check if my_list item i is equal to item\n",
    "        if my_list[i] == item:\n",
    "            # If true change found flag to true to exit while loop\n",
    "            found = True\n",
    "        else:\n",
    "            # If not true increment counter i to continue the loop\n",
    "            i += 1\n",
    "    \n",
    "    # Upon exiting while loop, return the the found flag and the amounf of iterations gone through\n",
    "    return(found, i)\n",
    "    "
   ]
  },
  {
   "cell_type": "code",
   "execution_count": 5,
   "metadata": {},
   "outputs": [
    {
     "name": "stdout",
     "output_type": "stream",
     "text": "(True, 6)\n(False, 10)\n"
    }
   ],
   "source": [
    "test = [6,5,8,2,3,45,87,24,70, 87]\n",
    "print(linear_search(87, test))\n",
    "print(linear_search(88, test))"
   ]
  },
  {
   "cell_type": "markdown",
   "metadata": {},
   "source": [
    "<h2>Binary Search</h2>\n",
    "Relies on the list you are searching through is sorted. relies on a half split method. logarithmic time algorithm.\n",
    "Go to the mid point of your list. Is this your item? if not is it Higher or lower than the item that is selected? discard the non relevent half and repeat."
   ]
  },
  {
   "cell_type": "code",
   "execution_count": 12,
   "metadata": {},
   "outputs": [],
   "source": [
    "def binary_search(item, my_list):\n",
    "    '''\n",
    "    Function to search through a list using a Binary Search.\n",
    "    Returns True if item is found in my_list and the Index of item\n",
    "    Returns False if item not in my_list.\n",
    "    '''\n",
    "    \n",
    "    # Initialise found flag to false, set first index as index 0 and last to the last index in my_list\n",
    "    found = False\n",
    "    first = 0\n",
    "    last = len(my_list) - 1\n",
    "    \n",
    "    # Loop to go search through the list.\n",
    "    while first <= last and found == False:\n",
    "        midpoint = (first + last)//2\n",
    "        if my_list[midpoint] == item:\n",
    "            found = True\n",
    "        else:\n",
    "            if my_list[midpoint] < item:\n",
    "                first = midpoint + 1\n",
    "            else:\n",
    "                last = midpoint - 1\n",
    "    return found, midpoint"
   ]
  },
  {
   "cell_type": "code",
   "execution_count": 14,
   "metadata": {},
   "outputs": [
    {
     "data": {
      "text/plain": [
       "[2, 3, 5, 6, 8, 24, 45, 70, 87, 87]"
      ]
     },
     "execution_count": 14,
     "metadata": {},
     "output_type": "execute_result"
    }
   ],
   "source": [
    "test"
   ]
  },
  {
   "cell_type": "code",
   "execution_count": 15,
   "metadata": {},
   "outputs": [
    {
     "name": "stdout",
     "output_type": "stream",
     "text": [
      "(True, 3)\n",
      "(False, 9)\n"
     ]
    }
   ],
   "source": [
    "test.sort()\n",
    "print(binary_search(6,test))\n",
    "print(binary_search(88,test))"
   ]
  },
  {
   "cell_type": "markdown",
   "execution_count": null,
   "metadata": {},
   "outputs": [],
   "source": [
    "<h2>Insertion Sort</h2>\n",
    "Assume the item at index zero (item[0]) is sorted, take item at index one (item[1]) and ask if item[1] is larger or smaller than item[0]. If item[1] < item[0] remove it from its current location and insert it at index zero. If item[1] > item[0] move on to the next index.<br><br>Now compare item at index one (item[1]) to the item at index two (item[2]).\n",
    "If item[2] < item[1] find correct location in all previously sorted items and insert."
   ]
  },
  {
   "cell_type": "code",
   "execution_count": 4,
   "metadata": {},
   "outputs": [],
   "source": [
    "def insertion_sort(my_list):\n",
    "    '''\n",
    "    Use Insertion Sort algorithm return a sorted list given my_list as input.\n",
    "    '''\n",
    "    # Get the length of the input list.\n",
    "    n = len(my_list)\n",
    "    # Create a for loop to iterate over my_list starting at 1 because we assume my_list[0] is sorted.\n",
    "    \n",
    "    for i in range(1, n):\n",
    "        # Value to check is equal to the value stored in my_list index (i).\n",
    "        value = my_list[i]  \n",
    "        # j is second counter to work backwards through list to insert values.\n",
    "        j = i               \n",
    "        # While loop comparison ensure j only looks to index[0]. compares item at j-1 is larger than the current iterations value.\n",
    "        while j > 0 and my_list[j-1] > value:\n",
    "            # Shift the item from j-1 up the list by one to the jth position.\n",
    "            my_list[j] = my_list[j-1]\n",
    "            j -= 1          # Decrement j by one.\n",
    "        my_list[j] = value  # Insert value into the decremented jth position, thereby performing a swap of j and j-1\n",
    "\n",
    "    return my_list"
   ]
  },
  {
   "cell_type": "code",
   "execution_count": 6,
   "metadata": {},
   "outputs": [
    {
     "name": "stdout",
     "output_type": "stream",
     "text": "[2, 3, 5, 6, 8, 24, 45, 70, 87, 87]\n"
    }
   ],
   "source": [
    "print(insertion_sort(test))"
   ]
  },
  {
   "cell_type": "code",
   "execution_count": null,
   "metadata": {},
   "outputs": [],
   "source": []
  }
 ],
 "metadata": {
  "kernelspec": {
   "display_name": "Python 3",
   "language": "python",
   "name": "python3"
  },
  "language_info": {
   "codemirror_mode": {
    "name": "ipython",
    "version": 3
   },
   "file_extension": ".py",
   "mimetype": "text/x-python",
   "name": "python",
   "nbconvert_exporter": "python",
   "pygments_lexer": "ipython3",
   "version": "3.7.4-final"
  }
 },
 "nbformat": 4,
 "nbformat_minor": 2
}