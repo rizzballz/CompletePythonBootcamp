{
 "cells": [
  {
   "cell_type": "markdown",
   "metadata": {},
   "source": [
    "<h1>The Towers of Hanoi Coding Challenge</h1>\n",
    "by Ryan McMillan, 18 Jan 2020\n",
    "<h4>Description:</h4>\n",
    "The Towers of Hanoi.\n",
    "You can only move the top disc on a stack.\n",
    "You can only place a disc on an empty stack or a larger disc.\n",
    "Calculate how many moves it takes to get all discs from Tower A to Tower C"
   ]
  },
  {
   "cell_type": "code",
   "execution_count": 14,
   "metadata": {},
   "outputs": [],
   "source": [
    "# Import created Stack class from stacks.py\n",
    "from stacks import Stack"
   ]
  },
  {
   "cell_type": "code",
   "execution_count": 22,
   "metadata": {},
   "outputs": [],
   "source": [
    "def initialise_stacks(n):\n",
    "    A,B,C = Stack(), Stack(), Stack()\n",
    "    \n",
    "    for i in range(0,n):\n",
    "        A.push(n-i)\n",
    "    return A,B,C"
   ]
  },
  {
   "cell_type": "code",
   "execution_count": 35,
   "metadata": {},
   "outputs": [
    {
     "name": "stdout",
     "output_type": "stream",
     "text": [
      "[3, 2, 1]\n",
      "1\n",
      "[3, 2, 1]\n"
     ]
    }
   ],
   "source": [
    "#Confirm that 3 items in stack A and the top item of the stack is '1'.\n",
    "A,B,C = initialise_stacks(3)\n",
    "\n",
    "print(A)\n",
    "print(A.peek())\n",
    "print(A)"
   ]
  },
  {
   "cell_type": "code",
   "execution_count": 36,
   "metadata": {},
   "outputs": [],
   "source": [
    "count = 0\n",
    "\n",
    "def towers_of_hanoi(A,B,C,n):\n",
    "        '''\n",
    "        Function to calculate the number of moves to move disks from Tower A to Tower C.\n",
    "        Tower B is an intermediate position when moving discs around.\n",
    "        '''\n",
    "        global count\n",
    "        print(A)\n",
    "        print(B)\n",
    "        print(C)\n",
    "        if n == 1:\n",
    "            C.push(A.pull())\n",
    "            count += 1\n",
    "        else:\n",
    "            towers_of_hanoi(A,C,B,n-1)\n",
    "            \n",
    "            towers_of_hanoi(A,B,C,1)\n",
    "            \n",
    "            towers_of_hanoi(B,A,C,n-1)\n",
    "            \n",
    "        return count\n",
    "        \n",
    "        "
   ]
  },
  {
   "cell_type": "code",
   "execution_count": 37,
   "metadata": {},
   "outputs": [
    {
     "name": "stdout",
     "output_type": "stream",
     "text": [
      "[3, 2, 1]\n",
      "[]\n",
      "[]\n",
      "[3, 2, 1]\n",
      "[]\n",
      "[]\n",
      "[3, 2, 1]\n",
      "[]\n",
      "[]\n",
      "[3, 2]\n",
      "[1]\n",
      "[]\n",
      "[1]\n",
      "[3]\n",
      "[2]\n",
      "[3]\n",
      "[2, 1]\n",
      "[]\n",
      "[2, 1]\n",
      "[]\n",
      "[3]\n",
      "[2, 1]\n",
      "[3]\n",
      "[]\n",
      "[2]\n",
      "[1]\n",
      "[3]\n",
      "[1]\n",
      "[]\n",
      "[3, 2]\n"
     ]
    },
    {
     "data": {
      "text/plain": [
       "7"
      ]
     },
     "execution_count": 37,
     "metadata": {},
     "output_type": "execute_result"
    }
   ],
   "source": [
    "towers_of_hanoi(A,B,C,3)"
   ]
  },
  {
   "cell_type": "code",
   "execution_count": 38,
   "metadata": {},
   "outputs": [
    {
     "data": {
      "text/plain": [
       "[]"
      ]
     },
     "execution_count": 38,
     "metadata": {},
     "output_type": "execute_result"
    }
   ],
   "source": [
    "A"
   ]
  },
  {
   "cell_type": "code",
   "execution_count": 39,
   "metadata": {},
   "outputs": [
    {
     "data": {
      "text/plain": [
       "[]"
      ]
     },
     "execution_count": 39,
     "metadata": {},
     "output_type": "execute_result"
    }
   ],
   "source": [
    "B"
   ]
  },
  {
   "cell_type": "code",
   "execution_count": 40,
   "metadata": {},
   "outputs": [
    {
     "data": {
      "text/plain": [
       "[3, 2, 1]"
      ]
     },
     "execution_count": 40,
     "metadata": {},
     "output_type": "execute_result"
    }
   ],
   "source": [
    "C"
   ]
  },
  {
   "cell_type": "code",
   "execution_count": null,
   "metadata": {},
   "outputs": [],
   "source": []
  }
 ],
 "metadata": {
  "kernelspec": {
   "display_name": "Python 3",
   "language": "python",
   "name": "python3"
  },
  "language_info": {
   "codemirror_mode": {
    "name": "ipython",
    "version": 3
   },
   "file_extension": ".py",
   "mimetype": "text/x-python",
   "name": "python",
   "nbconvert_exporter": "python",
   "pygments_lexer": "ipython3",
   "version": "3.7.4"
  }
 },
 "nbformat": 4,
 "nbformat_minor": 2
}
