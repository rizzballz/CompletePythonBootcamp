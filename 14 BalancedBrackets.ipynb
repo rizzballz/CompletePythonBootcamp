{
 "cells": [
  {
   "cell_type": "markdown",
   "metadata": {},
   "source": [
    "<h1>Section 14: Balanced Brackets Coding Challenge</h1>\n",
    "<h4>by Ryan McMillan</h4>"
   ]
  },
  {
   "cell_type": "code",
   "execution_count": 3,
   "metadata": {},
   "outputs": [],
   "source": [
    "# Declaring constants\n",
    "\n",
    "OPENING = ['(','[','{']\n",
    "CLOSING = [')',']','}']"
   ]
  },
  {
   "cell_type": "code",
   "execution_count": 4,
   "metadata": {},
   "outputs": [],
   "source": [
    "# Bring in the Stack Class from the stacks.py\n",
    "\n",
    "class Stack(object):\n",
    "    '''\n",
    "    Stack class to describe a Stack object. Similar to a list in that \n",
    "    you can pop from the top (pull), append to the end of the stack \n",
    "    (push).\n",
    "\n",
    "    Attributes:\n",
    "    -----------\n",
    "    stack = The list of items\n",
    "    '''\n",
    "    def __init__(self):\n",
    "        '''\n",
    "        On instantiation, initialise an empty list (stack).\n",
    "        '''\n",
    "        self.stack = []\n",
    "\n",
    "    def add_to_stack(self, item_string):\n",
    "        '''\n",
    "        take a string of characters and push each individual item from the string to the stack.\n",
    "        '''\n",
    "        for item in item_string:\n",
    "            self.push(item)\n",
    "\n",
    "    def is_empty(self):\n",
    "        '''\n",
    "        Check to see is the stack is empty return True if empty\n",
    "        return False if items in stack.\n",
    "        '''\n",
    "        if not self.stack:\n",
    "            return True\n",
    "        else:\n",
    "            return False\n",
    "\n",
    "    def __repr__(self):\n",
    "        '''\n",
    "        Returns a representation of itself in the form of a list rather than\n",
    "        <__main__.Stack object at 0x7efe521920d0>.\n",
    "        '''\n",
    "        return  repr(self.stack)\n",
    "\n",
    "    def push(self, item):\n",
    "        '''\n",
    "        Push an item to the top of the stack.\n",
    "        '''\n",
    "        self.stack.append(item)\n",
    "\n",
    "    def pull(self):\n",
    "        '''\n",
    "        Pull the top item from the stack. Item is removed.\n",
    "        '''\n",
    "        return self.stack.pop()\n",
    "\n",
    "    def peek(self):\n",
    "        '''\n",
    "        Look at the top item on the stack but do not remove it.\n",
    "        '''\n",
    "        if self.stack == []:\n",
    "            return None\n",
    "        else:\n",
    "            return self.stack[-1]\n"
   ]
  },
  {
   "cell_type": "code",
   "execution_count": 25,
   "metadata": {},
   "outputs": [],
   "source": [
    "def check_balance(items, stack):\n",
    "    '''\n",
    "    Ryan's solution to the balanced brackets problem\n",
    "    Iterate through a string of brackets ensure that they are balanced.\n",
    "    '({[]})' is balanced. '([{}](' is unbalanced\n",
    "    '''\n",
    "    # A balanced string of brackets must be an even number.\n",
    "    if len(items) % 2 != 0:\n",
    "        return False\n",
    "    \n",
    "    # Iterate over the items in the string.\n",
    "    for item in items:\n",
    "        #print(item)\n",
    "        # If item is an opening bracket push it to the stack.\n",
    "        if item in OPENING:\n",
    "            stack.push(item)\n",
    "            print(stack)\n",
    "        # If the item is a closing bracket attempt to compare it to the stack\n",
    "        # if current item and top of stack match, remove the item from the stack and continue.\n",
    "        elif item in CLOSING:\n",
    "            try:\n",
    "                if CLOSING.index(item) == OPENING.index(stack.peek()):\n",
    "                    stack.pull()\n",
    "                    print(stack)\n",
    "            except:\n",
    "                # Exception is raised if closing bracket is at index zero.\n",
    "                return False\n",
    "        # If an item is neither an opening or closing bracket return False.\n",
    "        else:\n",
    "            print('Error, unknown character in items.')\n",
    "            return False\n",
    "        \n",
    "    return len(stack.stack) == 0     "
   ]
  },
  {
   "cell_type": "code",
   "execution_count": 23,
   "metadata": {},
   "outputs": [],
   "source": [
    "def balance_brackets(s):\n",
    "    '''\n",
    "    Giles' solution to balanced brackets using a dictionary\n",
    "    '''\n",
    "    print(s)\n",
    "    stack = []\n",
    "    brackets = {'(':')','[':']','{':'}'}\n",
    "       \n",
    "    for char in s:\n",
    "        if char in brackets.keys():\n",
    "            stack.append(char)\n",
    "            print(stack)\n",
    "                \n",
    "        else:\n",
    "                \n",
    "            if len(stack) == 0 or brackets[stack.pop()] != char:\n",
    "                return False\n",
    "                \n",
    "        return len(stack) == 0"
   ]
  },
  {
   "cell_type": "code",
   "execution_count": 9,
   "metadata": {},
   "outputs": [],
   "source": [
    "# Instantiate a Stack object.\n",
    "stack = Stack()"
   ]
  },
  {
   "cell_type": "code",
   "execution_count": 10,
   "metadata": {},
   "outputs": [],
   "source": [
    "# Test Cases\n",
    "items1 = '([{}])' # Balanced.\n",
    "items2 = '{})' # Unbalanced. Uneven number of brackets.\n",
    "items3 = '(()[{}()])' # Balanced. Brackets are placed more randomly.\n",
    "items4 = '}{}{' #Unbalanced. Even number of brackets. Closing bracket at index zero."
   ]
  },
  {
   "cell_type": "code",
   "execution_count": 16,
   "metadata": {},
   "outputs": [
    {
     "name": "stdout",
     "output_type": "stream",
     "text": [
      "['(']\n",
      "['(', '[']\n",
      "['(', '[', '{']\n",
      "['(', '[']\n",
      "['(']\n",
      "[]\n",
      "True\n",
      "False\n",
      "['(']\n",
      "['(', '(']\n",
      "['(']\n",
      "['(', '[']\n",
      "['(', '[', '{']\n",
      "['(', '[']\n",
      "['(', '[', '(']\n",
      "['(', '[']\n",
      "['(']\n",
      "[]\n",
      "True\n",
      "False\n"
     ]
    }
   ],
   "source": [
    "# Use Ryan's solution\n",
    "print(check_balance(items1, stack))\n",
    "print(check_balance(items2, stack))\n",
    "print(check_balance(items3, stack))\n",
    "print(check_balance(items4, stack))"
   ]
  },
  {
   "cell_type": "code",
   "execution_count": 24,
   "metadata": {},
   "outputs": [
    {
     "name": "stdout",
     "output_type": "stream",
     "text": [
      "([{}])\n",
      "['(']\n",
      "False\n",
      "{})\n",
      "['{']\n",
      "False\n",
      "(()[{}()])\n",
      "['(']\n",
      "False\n",
      "}{}{\n",
      "False\n"
     ]
    }
   ],
   "source": [
    "# Use Giles' solution\n",
    "# Seems to be an issue with always returning False\n",
    "print(balance_brackets(items1))\n",
    "print(balance_brackets(items2))\n",
    "print(balance_brackets(items3))\n",
    "print(balance_brackets(items4))"
   ]
  },
  {
   "cell_type": "code",
   "execution_count": null,
   "metadata": {},
   "outputs": [],
   "source": []
  }
 ],
 "metadata": {
  "kernelspec": {
   "display_name": "Python 3",
   "language": "python",
   "name": "python3"
  },
  "language_info": {
   "codemirror_mode": {
    "name": "ipython",
    "version": 3
   },
   "file_extension": ".py",
   "mimetype": "text/x-python",
   "name": "python",
   "nbconvert_exporter": "python",
   "pygments_lexer": "ipython3",
   "version": "3.7.4"
  }
 },
 "nbformat": 4,
 "nbformat_minor": 2
}