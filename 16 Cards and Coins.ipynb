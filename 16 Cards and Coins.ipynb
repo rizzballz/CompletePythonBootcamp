{
 "cells": [
  {
   "cell_type": "markdown",
   "execution_count": null,
   "metadata": {},
   "outputs": [],
   "source": [
    "<h1>16. Cards and Coins</h1>\n",
    "by Ryan McMillan 20 Jan 2020<br><br>\n",
    "Coding challenges relating to cards and coins"
   ]
  },
  {
   "cell_type": "markdown",
   "execution_count": null,
   "metadata": {},
   "outputs": [],
   "source": [
    "<h2>Credit Card Validation</h2>\n",
    "Credit card numbers follow a set of rules (Luhn's algorithm). Is a given credit card number a valid number?<br><br>\n",
    "Rules are as follows:<br>\n",
    "Multiply every 2nd digit by 2, starting at the second digit and add all of those products together.<br>\n",
    "To that number, add the sum off all the digits that were not multiplied by 2 (odd digits)<br>\n",
    "find the remainder when the new sum is divided by 10.<br>\n",
    "If remainder is zero then CC number is valid."
   ]
  },
  {
   "cell_type": "code",
   "execution_count": 24,
   "metadata": {},
   "outputs": [],
   "source": [
    "def cc_validation(card_number):\n",
    "    evens = 0\n",
    "    odds = 0\n",
    "\n",
    "    # Multiply every second digit by 2, starting at the second digit\n",
    "    for i in range(1,len(card_number),2):\n",
    "        evens += (2 * int(card_number[i]))\n",
    "        print(card_number[i], end='')\n",
    "    # Get the sum of all the odd indexes\n",
    "    print('')\n",
    "    for i in range(0,len(card_number),2):\n",
    "        odds += int(card_number[i])\n",
    "        print(card_number[i], end='')\n",
    "    \n",
    "    joined = evens + odds\n",
    "    modulus = joined % 10\n",
    "    print(modulus)\n",
    "\n",
    "    if modulus == 0:\n",
    "        return True\n",
    "    else:\n",
    "        return False"
   ]
  },
  {
   "cell_type": "code",
   "execution_count": 26,
   "metadata": {},
   "outputs": [
    {
     "name": "stdout",
     "output_type": "stream",
     "text": "44802537\n435007263\n"
    },
    {
     "data": {
      "text/plain": "False"
     },
     "execution_count": 26,
     "metadata": {},
     "output_type": "execute_result"
    }
   ],
   "source": [
    "cc_validation('4434580002752367')"
   ]
  },
  {
   "cell_type": "markdown",
   "execution_count": null,
   "metadata": {},
   "outputs": [],
   "source": [
    "<h2>1000 Coin Callenge</h2>\n",
    "Lay out a thousand coins heads facing up, go back to the beginning and flip every second coin. Go back to the beginning and flip every third coin.... etc all the way up to the 1000th coin.<br><br>\n",
    "How many coins have heads facing up?"
   ]
  },
  {
   "cell_type": "code",
   "execution_count": 33,
   "metadata": {},
   "outputs": [
    {
     "name": "stdout",
     "output_type": "stream",
     "text": "0\n"
    }
   ],
   "source": [
    "coins = []\n",
    "n = 1\n",
    "counter = 0\n",
    "for i in range(0,1000):\n",
    "    coins.append(True)\n",
    "for j in range (0,1000,n):\n",
    "    coins[j] = not coins[j]\n",
    "    n += 1\n",
    "for coin in coins:\n",
    "    if coin == True:\n",
    "        counter += 1\n",
    "\n",
    "print(counter)"
   ]
  },
  {
   "cell_type": "code",
   "execution_count": 30,
   "metadata": {},
   "outputs": [
    {
     "name": "stdout",
     "output_type": "stream",
     "text": "999\n"
    }
   ],
   "source": [
    "print(i)"
   ]
  },
  {
   "cell_type": "code",
   "execution_count": null,
   "metadata": {},
   "outputs": [],
   "source": []
  },
  {
   "cell_type": "code",
   "execution_count": null,
   "metadata": {},
   "outputs": [],
   "source": []
  },
  {
   "cell_type": "code",
   "execution_count": null,
   "metadata": {},
   "outputs": [],
   "source": []
  },
  {
   "cell_type": "code",
   "execution_count": null,
   "metadata": {},
   "outputs": [],
   "source": []
  }
 ],
 "metadata": {
  "kernelspec": {
   "display_name": "Python 3",
   "language": "python",
   "name": "python3"
  },
  "language_info": {
   "codemirror_mode": {
    "name": "ipython",
    "version": 3
   },
   "file_extension": ".py",
   "mimetype": "text/x-python",
   "name": "python",
   "nbconvert_exporter": "python",
   "pygments_lexer": "ipython3",
   "version": "3.7.4-final"
  }
 },
 "nbformat": 4,
 "nbformat_minor": 2
}