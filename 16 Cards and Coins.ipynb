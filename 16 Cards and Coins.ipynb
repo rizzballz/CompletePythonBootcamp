{
 "cells": [
  {
   "cell_type": "markdown",
   "execution_count": null,
   "metadata": {},
   "outputs": [],
   "source": [
    "<h1>16. Cards and Coins</h1>\n",
    "by Ryan McMillan 20 Jan 2020<br><br>\n",
    "Coding challenges relating to cards and coins"
   ]
  },
  {
   "cell_type": "markdown",
   "execution_count": null,
   "metadata": {},
   "outputs": [],
   "source": [
    "<h2>Credit Card Validation</h2>\n",
    "Credit card numbers follow a set of rules (Luhn's algorithm). Is a given credit card number a valid number?<br><br>\n",
    "Rules are as follows:<br>\n",
    "Multiply every 2nd digit by 2, starting at the second digit and add all of those products together.<br>\n",
    "To that number, add the sum off all the digits that were not multiplied by 2 (odd digits)<br>\n",
    "find the remainder when the new sum is divided by 10.<br>\n",
    "If remainder is zero then CC number is valid."
   ]
  },
  {
   "cell_type": "code",
   "execution_count": 68,
   "metadata": {},
   "outputs": [],
   "source": [
    "def extract_digits(number, even=True):\n",
    "    '''\n",
    "    Extract every second digit.\n",
    "    even = True every second digit extracted, starting at the second\n",
    "    '''\n",
    "    evens = []\n",
    "    odds = []\n",
    "\n",
    "    if even == True:\n",
    "        for i in range(1, len(number), 2):\n",
    "            evens.append(number[i])\n",
    "        evens = list(map(int, evens))\n",
    "        \n",
    "        return evens\n",
    "    \n",
    "    else:\n",
    "        for i in range(0, len(number), 2):\n",
    "            odds.append(number[i])\n",
    "        odds = list(map(int, odds))\n",
    "        \n",
    "        return odds\n",
    "\n",
    "\n",
    "def double(evens):\n",
    "    '''\n",
    "    Take a list and return a list with all elements doubled.\n",
    "    '''\n",
    "    doubled_digits = []\n",
    "    evens = map(int, evens)\n",
    "\n",
    "    for num in evens:\n",
    "        doubled_digits.append(num * 2)\n",
    "\n",
    "    return doubled_digits\n",
    "\n",
    "\n",
    "def separate_digits(evens):\n",
    "    '''\n",
    "    Take a list of integers, if item is >= 10 split the number into two integers [1, 0]\n",
    "    '''\n",
    "    sep_digits = []\n",
    "    evens = map(str, evens)\n",
    "    \n",
    "    for num in evens:\n",
    "        if len(num) > 1:\n",
    "            x = list(num)\n",
    "            sep_digits += x\n",
    "        else:\n",
    "            sep_digits.append(num)\n",
    "    sep_digits = list(map(int, sep_digits))\n",
    "    \n",
    "    return sep_digits\n",
    "\n",
    "\n",
    "\n",
    "def cc_validation1(card_number):\n",
    "    '''\n",
    "    Function to validate a CC number according to Luhn's algorithm\n",
    "    '''\n",
    "     \n",
    "    # Extract all the digits \n",
    "    evens = extract_digits(card_number)\n",
    "    odds = extract_digits(card_number, even=False)\n",
    "    # Multiply every even digit by 2\n",
    "    evens = double(evens)\n",
    "    evens = separate_digits(evens)\n",
    "    print(evens)\n",
    "    print(odds)\n",
    "    \n",
    "    # Sum all digits in string\n",
    "    even_digit_sum = sum(evens)\n",
    "    # Add Sum of all even digits to all remaining digits\n",
    "    odds.append(even_digit_sum)\n",
    "    all_digit_sum = sum(odds)\n",
    "    \n",
    "    # Check for Modulus == 0\n",
    "    return all_digit_sum % 10 == 0\n"
   ]
  },
  {
   "cell_type": "code",
   "execution_count": 69,
   "metadata": {},
   "outputs": [
    {
     "name": "stdout",
     "output_type": "stream",
     "text": "[1, 4, 8, 1, 8, 6, 6, 1, 6, 6]\n[3, 1, 4, 6, 5, 9, 4, 1]\n"
    },
    {
     "data": {
      "text/plain": "True"
     },
     "execution_count": 69,
     "metadata": {},
     "output_type": "execute_result"
    }
   ],
   "source": [
    "cc_validation1('371449635398431')"
   ]
  },
  {
   "cell_type": "code",
   "execution_count": 40,
   "metadata": {},
   "outputs": [
    {
     "data": {
      "text/plain": "[1, 0, 9, 8]"
     },
     "execution_count": 40,
     "metadata": {},
     "output_type": "execute_result"
    }
   ],
   "source": [
    "separate_digits([10,9,8])"
   ]
  },
  {
   "cell_type": "markdown",
   "execution_count": null,
   "metadata": {},
   "outputs": [],
   "source": [
    "<h2>1000 Coin Callenge</h2>\n",
    "Lay out a thousand coins heads facing up, go back to the beginning and flip every second coin. Go back to the beginning and flip every third coin.... etc all the way up to the 1000th coin.<br><br>\n",
    "How many coins have heads facing up?"
   ]
  },
  {
   "cell_type": "code",
   "execution_count": 33,
   "metadata": {},
   "outputs": [
    {
     "name": "stdout",
     "output_type": "stream",
     "text": "0\n"
    }
   ],
   "source": [
    "coins = []\n",
    "n = 1\n",
    "counter = 0\n",
    "for i in range(0,1000):\n",
    "    coins.append(True)\n",
    "for j in range (0,1000,n):\n",
    "    coins[j] = not coins[j]\n",
    "    n += 1\n",
    "for coin in coins:\n",
    "    if coin == True:\n",
    "        counter += 1\n",
    "\n",
    "print(counter)"
   ]
  },
  {
   "cell_type": "code",
   "execution_count": 30,
   "metadata": {},
   "outputs": [
    {
     "name": "stdout",
     "output_type": "stream",
     "text": "999\n"
    }
   ],
   "source": [
    "print(i)"
   ]
  },
  {
   "cell_type": "code",
   "execution_count": null,
   "metadata": {},
   "outputs": [],
   "source": []
  },
  {
   "cell_type": "code",
   "execution_count": null,
   "metadata": {},
   "outputs": [],
   "source": []
  },
  {
   "cell_type": "code",
   "execution_count": null,
   "metadata": {},
   "outputs": [],
   "source": []
  },
  {
   "cell_type": "code",
   "execution_count": null,
   "metadata": {},
   "outputs": [],
   "source": []
  }
 ],
 "metadata": {
  "kernelspec": {
   "display_name": "Python 3",
   "language": "python",
   "name": "python3"
  },
  "language_info": {
   "codemirror_mode": {
    "name": "ipython",
    "version": 3
   },
   "file_extension": ".py",
   "mimetype": "text/x-python",
   "name": "python",
   "nbconvert_exporter": "python",
   "pygments_lexer": "ipython3",
   "version": "3.7.4-final"
  }
 },
 "nbformat": 4,
 "nbformat_minor": 2
}